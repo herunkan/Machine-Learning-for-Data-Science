{
 "cells": [
  {
   "cell_type": "markdown",
   "metadata": {},
   "source": [
    "<center><h1>Kan_Herun_HW4</h1></center>\n",
    "<br>\n",
    "<br>"
   ]
  },
  {
   "cell_type": "markdown",
   "metadata": {},
   "source": [
    "Name: Herun Kan\n",
    "<br>\n",
    "Github Username: herunkan\n",
    "<br>\n",
    "USC ID: 7222919427"
   ]
  },
  {
   "cell_type": "markdown",
   "metadata": {},
   "source": [
    "## 1. Time Series Classification Part 1: Feature Creation/Extraction"
   ]
  },
  {
   "cell_type": "markdown",
   "metadata": {},
   "source": [
    "### (a) Download Data"
   ]
  },
  {
   "cell_type": "markdown",
   "metadata": {},
   "source": [
    "Package imports"
   ]
  },
  {
   "cell_type": "code",
   "execution_count": 1,
   "metadata": {},
   "outputs": [],
   "source": [
    "import pandas as pd \n",
    "import numpy as np\n",
    "import matplotlib.pyplot as plt\n",
    "import seaborn as sns\n",
    "import sklearn.linear_model as lm\n",
    "import statsmodels.api as sm\n",
    "import sklearn.preprocessing as pp\n",
    "import os\n",
    "import random"
   ]
  },
  {
   "cell_type": "markdown",
   "metadata": {},
   "source": [
    "Get the AReM Data Set"
   ]
  },
  {
   "cell_type": "code",
   "execution_count": 2,
   "metadata": {},
   "outputs": [],
   "source": [
    "col_names = ['time', 'avg_rss12', 'var_rss12', 'avg_rss13','var_rss13', 'avg_rss23', 'var_rss23']"
   ]
  },
  {
   "cell_type": "code",
   "execution_count": 3,
   "metadata": {},
   "outputs": [],
   "source": [
    "bending1_folder = '../data/AReM/bending1'\n",
    "\n",
    "bending1_data = {}\n",
    "bending1_folderdata = os.listdir(bending1_folder)\n",
    "bending1_folderdata.sort()\n",
    "\n",
    "for i, file in enumerate(bending1_folderdata):\n",
    "    file_path = os.path.join(bending1_folder, file)\n",
    "    bending1_data[i] = pd.read_csv(file_path, skiprows= 5, names = col_names)\n",
    "    #bending1_data[i]['Activity'] = 'bending1'\n"
   ]
  },
  {
   "cell_type": "code",
   "execution_count": 4,
   "metadata": {},
   "outputs": [],
   "source": [
    "bending2_folder = '../data/AReM/bending2'\n",
    "\n",
    "bending2_data = {}\n",
    "bending2_folderdata = os.listdir(bending2_folder)\n",
    "bending2_folderdata.sort()\n",
    "\n",
    "for i, file in enumerate(bending2_folderdata):\n",
    "    file_path = os.path.join(bending2_folder, file)\n",
    "    bending2_data[i] = pd.read_csv(file_path, skiprows= 5, names = col_names)\n",
    "    #bending2_data[i]['Activity'] = 'bending2'\n",
    "\n",
    "#bending dataset4 caused some problem\n",
    "bending2_data[3] = pd.read_csv('../data/AReM/bending2/dataset4.csv', skiprows= 5, names = col_names, sep=' ', index_col=False)\n"
   ]
  },
  {
   "cell_type": "code",
   "execution_count": 5,
   "metadata": {},
   "outputs": [],
   "source": [
    "# Had ParseError, found out it was trailing comma in a couple csv's so manually deleted those\n",
    "\n",
    "cycling_folder = '../data/AReM/cycling'\n",
    "\n",
    "cycling_data = {}\n",
    "cycling_folderdata = os.listdir(cycling_folder)\n",
    "cycling_folderdata.sort()\n",
    "\n",
    "for i, file in enumerate(cycling_folderdata):\n",
    "    file_path = os.path.join(cycling_folder, file)\n",
    "    cycling_data[i] = pd.read_csv(file_path, skiprows= 5, names = col_names)\n",
    "    #cycling_data[i]['Activity'] = 'cycling'"
   ]
  },
  {
   "cell_type": "code",
   "execution_count": 6,
   "metadata": {},
   "outputs": [],
   "source": [
    "lying_folder = '../data/AReM/lying'\n",
    "\n",
    "lying_data = {}\n",
    "lying_folderdata = os.listdir(lying_folder)\n",
    "lying_folderdata.sort()\n",
    "\n",
    "for i, file in enumerate(lying_folderdata):\n",
    "    file_path = os.path.join(lying_folder, file)\n",
    "    lying_data[i] = pd.read_csv(file_path, skiprows= 5, names = col_names)\n",
    "    #lying_data[i]['Activity'] = 'lying'"
   ]
  },
  {
   "cell_type": "code",
   "execution_count": 7,
   "metadata": {},
   "outputs": [],
   "source": [
    "sitting_folder = '../data/AReM/sitting'\n",
    "\n",
    "sitting_data = {}\n",
    "sitting_folderdata = os.listdir(sitting_folder)\n",
    "sitting_folderdata.sort()\n",
    "\n",
    "for i, file in enumerate(sitting_folderdata):\n",
    "    file_path = os.path.join(sitting_folder, file)\n",
    "    sitting_data[i] = pd.read_csv(file_path, skiprows= 5, names = col_names)\n",
    "    #sitting_data[i]['Activity'] = 'sitting'"
   ]
  },
  {
   "cell_type": "code",
   "execution_count": 8,
   "metadata": {},
   "outputs": [],
   "source": [
    "standing_folder = '../data/AReM/standing'\n",
    "\n",
    "standing_data = {}\n",
    "standing_folderdata = os.listdir(standing_folder)\n",
    "standing_folderdata.sort()\n",
    "\n",
    "for i, file in enumerate(standing_folderdata):\n",
    "    file_path = os.path.join(standing_folder, file)\n",
    "    standing_data[i] = pd.read_csv(file_path, skiprows= 5, names = col_names)\n",
    "    #standing_data[i]['Activity'] = 'standing'"
   ]
  },
  {
   "cell_type": "code",
   "execution_count": 9,
   "metadata": {},
   "outputs": [],
   "source": [
    "walking_folder = '../data/AReM/walking'\n",
    "\n",
    "walking_data = {}\n",
    "walking_folderdata = os.listdir(walking_folder)\n",
    "walking_folderdata.sort()\n",
    "\n",
    "for i, file in enumerate(walking_folderdata):\n",
    "    file_path = os.path.join(walking_folder, file)\n",
    "    walking_data[i] = pd.read_csv(file_path, skiprows= 5, names = col_names)\n",
    "    #walking_data[i]['Activity'] = 'walking'"
   ]
  },
  {
   "cell_type": "code",
   "execution_count": 10,
   "metadata": {},
   "outputs": [
    {
     "data": {
      "text/plain": [
       "15"
      ]
     },
     "execution_count": 10,
     "metadata": {},
     "output_type": "execute_result"
    }
   ],
   "source": [
    "all_data ={**bending1_data, **bending2_data, **cycling_data, **lying_data, **sitting_data, **standing_data, **walking_data} \n",
    "\n",
    "len(all_data)"
   ]
  },
  {
   "cell_type": "markdown",
   "metadata": {},
   "source": [
    "### (b) Test and Train Data"
   ]
  },
  {
   "cell_type": "code",
   "execution_count": 11,
   "metadata": {},
   "outputs": [],
   "source": [
    "def test_train_split(data, test_num):\n",
    "    train_data = {k: v for k, v in data.items() if k not in test_num}\n",
    "    test_data = {k: v for k, v in data.items() if k in test_num}\n",
    "    \n",
    "    return train_data, test_data\n",
    "\n",
    "test_num_bending = [0, 1]  \n",
    "test_num_other = [0, 1, 2] \n",
    "\n",
    "bending1_train, bending1_test = test_train_split(bending1_data, test_num_bending)\n",
    "bending2_train, bending2_test = test_train_split(bending2_data, test_num_bending)\n",
    "cycling_train, cycling_test = test_train_split(cycling_data, test_num_other)\n",
    "lying_train, lying_test = test_train_split(lying_data, test_num_other)\n",
    "sitting_train, sitting_test = test_train_split(sitting_data, test_num_other)\n",
    "standing_train, standing_test = test_train_split(standing_data, test_num_other)\n",
    "walking_train, walking_test = test_train_split(walking_data, test_num_other)\n"
   ]
  },
  {
   "cell_type": "markdown",
   "metadata": {},
   "source": [
    "### (c) Feature Extraction"
   ]
  },
  {
   "cell_type": "markdown",
   "metadata": {},
   "source": [
    "#### i. Research"
   ]
  },
  {
   "cell_type": "markdown",
   "metadata": {},
   "source": [
    "\"Classification of time series usually needs extracting features from them. So, extract the time-domain features such as minimum, maximum, mean, median, standard deviation, first quartile, and third quartile for all the 6 time series in each instance. Estimate the standard deviation of each of the time-domain features, 90% bootsrap confidence interval for the standard deviation of each feature to select the three most important time-domain features\" (Surbhi Jain, Github, https://github.com/SurbhiJainUSC/Time-Series-Classification)."
   ]
  },
  {
   "cell_type": "markdown",
   "metadata": {},
   "source": [
    "#### ii. Extraction"
   ]
  },
  {
   "cell_type": "code",
   "execution_count": 12,
   "metadata": {},
   "outputs": [
    {
     "data": {
      "text/html": [
       "<div>\n",
       "<style scoped>\n",
       "    .dataframe tbody tr th:only-of-type {\n",
       "        vertical-align: middle;\n",
       "    }\n",
       "\n",
       "    .dataframe tbody tr th {\n",
       "        vertical-align: top;\n",
       "    }\n",
       "\n",
       "    .dataframe thead th {\n",
       "        text-align: right;\n",
       "    }\n",
       "</style>\n",
       "<table border=\"1\" class=\"dataframe\">\n",
       "  <thead>\n",
       "    <tr style=\"text-align: right;\">\n",
       "      <th></th>\n",
       "      <th>min_avg_rss12</th>\n",
       "      <th>max_avg_rss12</th>\n",
       "      <th>mean_avg_rss12</th>\n",
       "      <th>median_avg_rss12</th>\n",
       "      <th>std_avg_rss12</th>\n",
       "      <th>1st_quart_avg_rss12</th>\n",
       "      <th>3rd_quart_avg_rss12</th>\n",
       "      <th>min_var_rss12</th>\n",
       "      <th>max_var_rss12</th>\n",
       "      <th>mean_var_rss12</th>\n",
       "      <th>...</th>\n",
       "      <th>std_avg_rss23</th>\n",
       "      <th>1st_quart_avg_rss23</th>\n",
       "      <th>3rd_quart_avg_rss23</th>\n",
       "      <th>min_var_rss23</th>\n",
       "      <th>max_var_rss23</th>\n",
       "      <th>mean_var_rss23</th>\n",
       "      <th>median_var_rss23</th>\n",
       "      <th>std_var_rss23</th>\n",
       "      <th>1st_quart_var_rss23</th>\n",
       "      <th>3rd_quart_var_rss23</th>\n",
       "    </tr>\n",
       "  </thead>\n",
       "  <tbody>\n",
       "    <tr>\n",
       "      <th>bending1_0</th>\n",
       "      <td>37.25</td>\n",
       "      <td>45.00</td>\n",
       "      <td>40.624792</td>\n",
       "      <td>40.500</td>\n",
       "      <td>1.476967</td>\n",
       "      <td>39.25</td>\n",
       "      <td>42.0000</td>\n",
       "      <td>0.0</td>\n",
       "      <td>1.30</td>\n",
       "      <td>0.358604</td>\n",
       "      <td>...</td>\n",
       "      <td>2.188449</td>\n",
       "      <td>33.0000</td>\n",
       "      <td>36.00</td>\n",
       "      <td>0.0</td>\n",
       "      <td>1.92</td>\n",
       "      <td>0.570583</td>\n",
       "      <td>0.430</td>\n",
       "      <td>0.582915</td>\n",
       "      <td>0.00</td>\n",
       "      <td>1.3000</td>\n",
       "    </tr>\n",
       "    <tr>\n",
       "      <th>bending1_1</th>\n",
       "      <td>38.00</td>\n",
       "      <td>45.67</td>\n",
       "      <td>42.812812</td>\n",
       "      <td>42.500</td>\n",
       "      <td>1.435550</td>\n",
       "      <td>42.00</td>\n",
       "      <td>43.6700</td>\n",
       "      <td>0.0</td>\n",
       "      <td>1.22</td>\n",
       "      <td>0.372437</td>\n",
       "      <td>...</td>\n",
       "      <td>1.995255</td>\n",
       "      <td>32.0000</td>\n",
       "      <td>34.50</td>\n",
       "      <td>0.0</td>\n",
       "      <td>3.11</td>\n",
       "      <td>0.571083</td>\n",
       "      <td>0.430</td>\n",
       "      <td>0.601010</td>\n",
       "      <td>0.00</td>\n",
       "      <td>1.3000</td>\n",
       "    </tr>\n",
       "    <tr>\n",
       "      <th>bending1_2</th>\n",
       "      <td>35.00</td>\n",
       "      <td>47.40</td>\n",
       "      <td>43.954500</td>\n",
       "      <td>44.330</td>\n",
       "      <td>1.558835</td>\n",
       "      <td>43.00</td>\n",
       "      <td>45.0000</td>\n",
       "      <td>0.0</td>\n",
       "      <td>1.70</td>\n",
       "      <td>0.426250</td>\n",
       "      <td>...</td>\n",
       "      <td>1.999604</td>\n",
       "      <td>35.3625</td>\n",
       "      <td>36.50</td>\n",
       "      <td>0.0</td>\n",
       "      <td>1.79</td>\n",
       "      <td>0.493292</td>\n",
       "      <td>0.430</td>\n",
       "      <td>0.513506</td>\n",
       "      <td>0.00</td>\n",
       "      <td>0.9400</td>\n",
       "    </tr>\n",
       "    <tr>\n",
       "      <th>bending1_3</th>\n",
       "      <td>33.00</td>\n",
       "      <td>47.75</td>\n",
       "      <td>42.179812</td>\n",
       "      <td>43.500</td>\n",
       "      <td>3.670666</td>\n",
       "      <td>39.15</td>\n",
       "      <td>45.0000</td>\n",
       "      <td>0.0</td>\n",
       "      <td>3.00</td>\n",
       "      <td>0.696042</td>\n",
       "      <td>...</td>\n",
       "      <td>3.849448</td>\n",
       "      <td>30.4575</td>\n",
       "      <td>36.33</td>\n",
       "      <td>0.0</td>\n",
       "      <td>2.18</td>\n",
       "      <td>0.613521</td>\n",
       "      <td>0.500</td>\n",
       "      <td>0.524317</td>\n",
       "      <td>0.00</td>\n",
       "      <td>1.0000</td>\n",
       "    </tr>\n",
       "    <tr>\n",
       "      <th>bending1_4</th>\n",
       "      <td>33.00</td>\n",
       "      <td>45.75</td>\n",
       "      <td>41.678063</td>\n",
       "      <td>41.750</td>\n",
       "      <td>2.243490</td>\n",
       "      <td>41.33</td>\n",
       "      <td>42.7500</td>\n",
       "      <td>0.0</td>\n",
       "      <td>2.83</td>\n",
       "      <td>0.535979</td>\n",
       "      <td>...</td>\n",
       "      <td>2.411026</td>\n",
       "      <td>28.4575</td>\n",
       "      <td>31.25</td>\n",
       "      <td>0.0</td>\n",
       "      <td>1.79</td>\n",
       "      <td>0.383292</td>\n",
       "      <td>0.430</td>\n",
       "      <td>0.389164</td>\n",
       "      <td>0.00</td>\n",
       "      <td>0.5000</td>\n",
       "    </tr>\n",
       "    <tr>\n",
       "      <th>...</th>\n",
       "      <td>...</td>\n",
       "      <td>...</td>\n",
       "      <td>...</td>\n",
       "      <td>...</td>\n",
       "      <td>...</td>\n",
       "      <td>...</td>\n",
       "      <td>...</td>\n",
       "      <td>...</td>\n",
       "      <td>...</td>\n",
       "      <td>...</td>\n",
       "      <td>...</td>\n",
       "      <td>...</td>\n",
       "      <td>...</td>\n",
       "      <td>...</td>\n",
       "      <td>...</td>\n",
       "      <td>...</td>\n",
       "      <td>...</td>\n",
       "      <td>...</td>\n",
       "      <td>...</td>\n",
       "      <td>...</td>\n",
       "      <td>...</td>\n",
       "    </tr>\n",
       "    <tr>\n",
       "      <th>walking_10</th>\n",
       "      <td>20.75</td>\n",
       "      <td>46.25</td>\n",
       "      <td>34.763333</td>\n",
       "      <td>35.290</td>\n",
       "      <td>4.742208</td>\n",
       "      <td>31.67</td>\n",
       "      <td>38.2500</td>\n",
       "      <td>0.0</td>\n",
       "      <td>12.68</td>\n",
       "      <td>4.223792</td>\n",
       "      <td>...</td>\n",
       "      <td>3.174681</td>\n",
       "      <td>14.2500</td>\n",
       "      <td>18.33</td>\n",
       "      <td>0.0</td>\n",
       "      <td>9.39</td>\n",
       "      <td>3.288271</td>\n",
       "      <td>3.270</td>\n",
       "      <td>1.647528</td>\n",
       "      <td>2.05</td>\n",
       "      <td>4.3050</td>\n",
       "    </tr>\n",
       "    <tr>\n",
       "      <th>walking_11</th>\n",
       "      <td>21.50</td>\n",
       "      <td>51.00</td>\n",
       "      <td>34.935812</td>\n",
       "      <td>35.500</td>\n",
       "      <td>4.645944</td>\n",
       "      <td>32.00</td>\n",
       "      <td>38.0625</td>\n",
       "      <td>0.0</td>\n",
       "      <td>12.21</td>\n",
       "      <td>4.115750</td>\n",
       "      <td>...</td>\n",
       "      <td>3.192058</td>\n",
       "      <td>14.2375</td>\n",
       "      <td>18.25</td>\n",
       "      <td>0.0</td>\n",
       "      <td>10.21</td>\n",
       "      <td>3.280021</td>\n",
       "      <td>3.015</td>\n",
       "      <td>1.700918</td>\n",
       "      <td>2.12</td>\n",
       "      <td>4.5000</td>\n",
       "    </tr>\n",
       "    <tr>\n",
       "      <th>walking_12</th>\n",
       "      <td>18.33</td>\n",
       "      <td>47.67</td>\n",
       "      <td>34.333042</td>\n",
       "      <td>34.750</td>\n",
       "      <td>4.948770</td>\n",
       "      <td>31.25</td>\n",
       "      <td>38.0000</td>\n",
       "      <td>0.0</td>\n",
       "      <td>12.48</td>\n",
       "      <td>4.396958</td>\n",
       "      <td>...</td>\n",
       "      <td>3.000493</td>\n",
       "      <td>13.7500</td>\n",
       "      <td>18.00</td>\n",
       "      <td>0.0</td>\n",
       "      <td>8.01</td>\n",
       "      <td>3.261583</td>\n",
       "      <td>2.980</td>\n",
       "      <td>1.617290</td>\n",
       "      <td>2.05</td>\n",
       "      <td>4.3200</td>\n",
       "    </tr>\n",
       "    <tr>\n",
       "      <th>walking_13</th>\n",
       "      <td>18.33</td>\n",
       "      <td>45.75</td>\n",
       "      <td>34.599875</td>\n",
       "      <td>35.125</td>\n",
       "      <td>4.731790</td>\n",
       "      <td>31.50</td>\n",
       "      <td>38.0000</td>\n",
       "      <td>0.0</td>\n",
       "      <td>15.37</td>\n",
       "      <td>4.398833</td>\n",
       "      <td>...</td>\n",
       "      <td>2.905688</td>\n",
       "      <td>14.0000</td>\n",
       "      <td>18.25</td>\n",
       "      <td>0.0</td>\n",
       "      <td>8.86</td>\n",
       "      <td>3.289542</td>\n",
       "      <td>3.015</td>\n",
       "      <td>1.680170</td>\n",
       "      <td>2.12</td>\n",
       "      <td>4.2600</td>\n",
       "    </tr>\n",
       "    <tr>\n",
       "      <th>walking_14</th>\n",
       "      <td>15.50</td>\n",
       "      <td>43.67</td>\n",
       "      <td>34.225875</td>\n",
       "      <td>34.750</td>\n",
       "      <td>4.441798</td>\n",
       "      <td>31.25</td>\n",
       "      <td>37.2500</td>\n",
       "      <td>0.0</td>\n",
       "      <td>17.24</td>\n",
       "      <td>4.354500</td>\n",
       "      <td>...</td>\n",
       "      <td>2.992920</td>\n",
       "      <td>14.3300</td>\n",
       "      <td>18.25</td>\n",
       "      <td>0.0</td>\n",
       "      <td>9.42</td>\n",
       "      <td>3.479542</td>\n",
       "      <td>3.270</td>\n",
       "      <td>1.761146</td>\n",
       "      <td>2.24</td>\n",
       "      <td>4.5375</td>\n",
       "    </tr>\n",
       "  </tbody>\n",
       "</table>\n",
       "<p>88 rows × 42 columns</p>\n",
       "</div>"
      ],
      "text/plain": [
       "            min_avg_rss12  max_avg_rss12  mean_avg_rss12  median_avg_rss12  \\\n",
       "bending1_0          37.25          45.00       40.624792            40.500   \n",
       "bending1_1          38.00          45.67       42.812812            42.500   \n",
       "bending1_2          35.00          47.40       43.954500            44.330   \n",
       "bending1_3          33.00          47.75       42.179812            43.500   \n",
       "bending1_4          33.00          45.75       41.678063            41.750   \n",
       "...                   ...            ...             ...               ...   \n",
       "walking_10          20.75          46.25       34.763333            35.290   \n",
       "walking_11          21.50          51.00       34.935812            35.500   \n",
       "walking_12          18.33          47.67       34.333042            34.750   \n",
       "walking_13          18.33          45.75       34.599875            35.125   \n",
       "walking_14          15.50          43.67       34.225875            34.750   \n",
       "\n",
       "            std_avg_rss12  1st_quart_avg_rss12  3rd_quart_avg_rss12  \\\n",
       "bending1_0       1.476967                39.25              42.0000   \n",
       "bending1_1       1.435550                42.00              43.6700   \n",
       "bending1_2       1.558835                43.00              45.0000   \n",
       "bending1_3       3.670666                39.15              45.0000   \n",
       "bending1_4       2.243490                41.33              42.7500   \n",
       "...                   ...                  ...                  ...   \n",
       "walking_10       4.742208                31.67              38.2500   \n",
       "walking_11       4.645944                32.00              38.0625   \n",
       "walking_12       4.948770                31.25              38.0000   \n",
       "walking_13       4.731790                31.50              38.0000   \n",
       "walking_14       4.441798                31.25              37.2500   \n",
       "\n",
       "            min_var_rss12  max_var_rss12  mean_var_rss12  ...  std_avg_rss23  \\\n",
       "bending1_0            0.0           1.30        0.358604  ...       2.188449   \n",
       "bending1_1            0.0           1.22        0.372437  ...       1.995255   \n",
       "bending1_2            0.0           1.70        0.426250  ...       1.999604   \n",
       "bending1_3            0.0           3.00        0.696042  ...       3.849448   \n",
       "bending1_4            0.0           2.83        0.535979  ...       2.411026   \n",
       "...                   ...            ...             ...  ...            ...   \n",
       "walking_10            0.0          12.68        4.223792  ...       3.174681   \n",
       "walking_11            0.0          12.21        4.115750  ...       3.192058   \n",
       "walking_12            0.0          12.48        4.396958  ...       3.000493   \n",
       "walking_13            0.0          15.37        4.398833  ...       2.905688   \n",
       "walking_14            0.0          17.24        4.354500  ...       2.992920   \n",
       "\n",
       "            1st_quart_avg_rss23  3rd_quart_avg_rss23  min_var_rss23  \\\n",
       "bending1_0              33.0000                36.00            0.0   \n",
       "bending1_1              32.0000                34.50            0.0   \n",
       "bending1_2              35.3625                36.50            0.0   \n",
       "bending1_3              30.4575                36.33            0.0   \n",
       "bending1_4              28.4575                31.25            0.0   \n",
       "...                         ...                  ...            ...   \n",
       "walking_10              14.2500                18.33            0.0   \n",
       "walking_11              14.2375                18.25            0.0   \n",
       "walking_12              13.7500                18.00            0.0   \n",
       "walking_13              14.0000                18.25            0.0   \n",
       "walking_14              14.3300                18.25            0.0   \n",
       "\n",
       "            max_var_rss23  mean_var_rss23  median_var_rss23  std_var_rss23  \\\n",
       "bending1_0           1.92        0.570583             0.430       0.582915   \n",
       "bending1_1           3.11        0.571083             0.430       0.601010   \n",
       "bending1_2           1.79        0.493292             0.430       0.513506   \n",
       "bending1_3           2.18        0.613521             0.500       0.524317   \n",
       "bending1_4           1.79        0.383292             0.430       0.389164   \n",
       "...                   ...             ...               ...            ...   \n",
       "walking_10           9.39        3.288271             3.270       1.647528   \n",
       "walking_11          10.21        3.280021             3.015       1.700918   \n",
       "walking_12           8.01        3.261583             2.980       1.617290   \n",
       "walking_13           8.86        3.289542             3.015       1.680170   \n",
       "walking_14           9.42        3.479542             3.270       1.761146   \n",
       "\n",
       "            1st_quart_var_rss23  3rd_quart_var_rss23  \n",
       "bending1_0                 0.00               1.3000  \n",
       "bending1_1                 0.00               1.3000  \n",
       "bending1_2                 0.00               0.9400  \n",
       "bending1_3                 0.00               1.0000  \n",
       "bending1_4                 0.00               0.5000  \n",
       "...                         ...                  ...  \n",
       "walking_10                 2.05               4.3050  \n",
       "walking_11                 2.12               4.5000  \n",
       "walking_12                 2.05               4.3200  \n",
       "walking_13                 2.12               4.2600  \n",
       "walking_14                 2.24               4.5375  \n",
       "\n",
       "[88 rows x 42 columns]"
      ]
     },
     "execution_count": 12,
     "metadata": {},
     "output_type": "execute_result"
    }
   ],
   "source": [
    "\n",
    "activities = {\n",
    "    'bending1': bending1_data,\n",
    "    'bending2': bending2_data,\n",
    "    'cycling': cycling_data,\n",
    "    'lying': lying_data,\n",
    "    'sitting': sitting_data,\n",
    "    'standing': standing_data,\n",
    "    'walking': walking_data\n",
    "}\n",
    "\n",
    "feature_df = []\n",
    "\n",
    "def extract_features(df):\n",
    "    features = {}\n",
    "    for column in ['avg_rss12', 'var_rss12', 'avg_rss13', 'var_rss13', 'avg_rss23', 'var_rss23']:\n",
    "        features[f'min_{column}'] = df[column].min()\n",
    "        features[f'max_{column}'] = df[column].max()\n",
    "        features[f'mean_{column}'] = df[column].mean()\n",
    "        features[f'median_{column}'] = df[column].median()\n",
    "        features[f'std_{column}'] = df[column].std()\n",
    "        features[f'1st_quart_{column}'] = df[column].quantile(0.25)\n",
    "        features[f'3rd_quart_{column}'] = df[column].quantile(0.75)\n",
    "    return pd.Series(features)\n",
    "\n",
    "for activity, data in activities.items():\n",
    "    for key, df in data.items():\n",
    "        feature_values = extract_features(df)\n",
    "        feature_values.name = f\"{activity}_{key}\" \n",
    "        feature_df.append(feature_values)\n",
    "\n",
    "combined_features = pd.DataFrame(feature_df)\n",
    "combined_features"
   ]
  },
  {
   "cell_type": "code",
   "execution_count": 13,
   "metadata": {},
   "outputs": [
    {
     "name": "stdout",
     "output_type": "stream",
     "text": [
      "                     Standard Deviation  Lower CI   Upper CI\n",
      "min_avg_rss12                  9.569975  8.225518  10.746853\n",
      "max_avg_rss12                  4.394362  3.302244   5.302611\n",
      "mean_avg_rss12                 5.335718  4.708118   5.883051\n",
      "median_avg_rss12               5.440054  4.836325   6.004812\n",
      "std_avg_rss12                  1.772153  1.575165   1.944887\n",
      "1st_quart_avg_rss12            6.153590  5.591746   6.609438\n",
      "3rd_quart_avg_rss12            5.138925  4.354701   5.835581\n",
      "min_var_rss12                  0.000000  0.000000   0.000000\n",
      "max_var_rss12                  5.062729  4.624133   5.431565\n",
      "mean_var_rss12                 1.574164  1.407543   1.706575\n",
      "median_var_rss12               1.412244  1.235842   1.542657\n",
      "std_var_rss12                  0.884105  0.799859   0.943430\n",
      "1st_quart_var_rss12            0.946386  0.834879   1.031225\n",
      "3rd_quart_var_rss12            2.125266  1.898283   2.294371\n",
      "min_avg_rss13                  2.956462  2.769063   3.100501\n",
      "max_avg_rss13                  4.875137  4.161566   5.437034\n",
      "mean_avg_rss13                 4.008380  3.458959   4.479639\n",
      "median_avg_rss13               4.036396  3.411873   4.516756\n",
      "std_avg_rss13                  0.946710  0.754284   1.109726\n",
      "1st_quart_avg_rss13            4.220658  3.684035   4.724903\n",
      "3rd_quart_avg_rss13            4.171628  3.554633   4.685993\n",
      "min_var_rss13                  0.000000  0.000000   0.000000\n",
      "max_var_rss13                  2.183625  1.984440   2.349120\n",
      "mean_var_rss13                 1.166114  1.078186   1.220393\n",
      "median_var_rss13               1.145586  1.057964   1.199668\n",
      "std_var_rss13                  0.458242  0.423302   0.485539\n",
      "1st_quart_var_rss13            0.843620  0.775456   0.889660\n",
      "3rd_quart_var_rss13            1.552504  1.430825   1.625930\n",
      "min_avg_rss23                  6.124001  4.463541   7.547537\n",
      "max_avg_rss23                  5.741238  4.720788   6.535262\n",
      "mean_avg_rss23                 5.675593  4.393665   6.658310\n",
      "median_avg_rss23               5.813782  4.552502   7.024499\n",
      "std_avg_rss23                  1.024898  0.817236   1.212834\n",
      "1st_quart_avg_rss23            6.096465  4.797173   7.198008\n",
      "3rd_quart_avg_rss23            5.531720  4.427755   6.565006\n",
      "min_var_rss23                  0.045838  0.000000   0.078476\n",
      "max_var_rss23                  2.518921  2.256172   2.765492\n",
      "mean_var_rss23                 1.154812  1.058872   1.215815\n",
      "median_var_rss23               1.086474  0.989769   1.149462\n",
      "std_var_rss23                  0.517617  0.479225   0.546840\n",
      "1st_quart_var_rss23            0.758584  0.689575   0.808270\n",
      "3rd_quart_var_rss23            1.523599  1.408990   1.605460\n"
     ]
    }
   ],
   "source": [
    "#Helped by Chatgpt\n",
    "\n",
    "#Prompt:\n",
    "#how does bootstrap work in pandas?\n",
    "\n",
    "#Response:\n",
    "# Bootstrapping is a resampling technique used to estimate statistics (like the mean, median, variance, confidence intervals, etc.) of a population from a sample dataset. It is particularly useful when you want to quantify the uncertainty of a statistic without making strong parametric assumptions about the distribution of the data.\n",
    "\n",
    "# Bootstrapping in Pandas\n",
    "\n",
    "# In pandas, you can implement bootstrapping directly using methods like sample(), which allows you to sample data from a DataFrame or Series. Here’s a simple example illustrating how to bootstrap the mean of a pandas Series:\n",
    "\n",
    "# import pandas as pd\n",
    "# import numpy as np\n",
    "\n",
    "# # Sample data\n",
    "# data = pd.Series([1, 2, 3, 4, 5])\n",
    "\n",
    "# # Number of bootstrap samples\n",
    "# n_boot = 1000\n",
    "# boot_means = []\n",
    "\n",
    "# # Bootstrapping process\n",
    "# for _ in range(n_boot):\n",
    "#     # Generate a bootstrap sample\n",
    "#     sample = data.sample(frac=1, replace=True)  # frac=1 means to sample the same size as the original data\n",
    "#     boot_means.append(sample.mean())  # Calculate the mean for this bootstrap sample\n",
    "\n",
    "# # Calculate the 90% confidence interval\n",
    "# lower_ci = np.percentile(boot_means, 5)  # 5th percentile\n",
    "# upper_ci = np.percentile(boot_means, 95)  # 95th percentile\n",
    "\n",
    "# # Display the results\n",
    "# print(\"Bootstrap Mean CI (90%):\", (lower_ci, upper_ci))\n",
    "\n",
    "\n",
    "def bootstrap_std(data, n_boot=1000, alpha=0.1):\n",
    "    bootstrapped_stds = []\n",
    "    n = len(data)\n",
    "    for _ in range(n_boot):\n",
    "        sample = np.random.choice(data, size=n, replace=True)\n",
    "        bootstrapped_stds.append(np.std(sample, ddof=1))\n",
    "\n",
    "    lower_ci = np.percentile(bootstrapped_stds, 100 * (alpha / 2))\n",
    "    upper_ci = np.percentile(bootstrapped_stds, 100 * (1 - alpha / 2))\n",
    "    \n",
    "    return np.std(data, ddof=1), lower_ci, upper_ci\n",
    "\n",
    "std_dev_ci = {}\n",
    "\n",
    "for column in combined_features.columns:\n",
    "    data = combined_features[column]\n",
    "    sd, ci_lower, ci_upper = bootstrap_std(data, n_boot=1000, alpha=0.1)\n",
    "    std_dev_ci[column] = {\n",
    "        'sd': sd,\n",
    "        'ci_lower': ci_lower,\n",
    "        'ci_upper': ci_upper\n",
    "    }\n",
    "\n",
    "# Convert the results into a DataFrame for easier viewing\n",
    "std_dev_ci_df = pd.DataFrame(std_dev_ci).T\n",
    "std_dev_ci_df.columns = ['Standard Deviation', 'Lower CI', 'Upper CI']\n",
    "\n",
    "# Display the results\n",
    "print(std_dev_ci_df)"
   ]
  },
  {
   "cell_type": "markdown",
   "metadata": {},
   "source": [
    "i will go with mean, median and standard deviation"
   ]
  },
  {
   "cell_type": "markdown",
   "metadata": {},
   "source": [
    "## 2. Time Series Classification Part 2: Binary and Multiclass Classification"
   ]
  },
  {
   "cell_type": "markdown",
   "metadata": {},
   "source": [
    "### (a) Binary Classification Using Logistic Regression"
   ]
  },
  {
   "cell_type": "markdown",
   "metadata": {
    "tags": []
   },
   "source": [
    "#### i. Plots"
   ]
  },
  {
   "cell_type": "code",
   "execution_count": null,
   "metadata": {},
   "outputs": [],
   "source": []
  },
  {
   "cell_type": "markdown",
   "metadata": {
    "tags": []
   },
   "source": [
    "#### ii. Splitted Plots"
   ]
  },
  {
   "cell_type": "code",
   "execution_count": null,
   "metadata": {},
   "outputs": [],
   "source": []
  },
  {
   "cell_type": "markdown",
   "metadata": {
    "tags": []
   },
   "source": [
    "#### iii. Time Series Segments"
   ]
  },
  {
   "cell_type": "code",
   "execution_count": null,
   "metadata": {},
   "outputs": [],
   "source": []
  },
  {
   "cell_type": "markdown",
   "metadata": {
    "tags": []
   },
   "source": [
    "#### iv. Confusion Matrix"
   ]
  },
  {
   "cell_type": "code",
   "execution_count": null,
   "metadata": {},
   "outputs": [],
   "source": []
  },
  {
   "cell_type": "markdown",
   "metadata": {
    "tags": []
   },
   "source": [
    "#### v. Test Classifier"
   ]
  },
  {
   "cell_type": "code",
   "execution_count": null,
   "metadata": {},
   "outputs": [],
   "source": []
  },
  {
   "cell_type": "markdown",
   "metadata": {
    "tags": []
   },
   "source": [
    "#### vi. Separation"
   ]
  },
  {
   "cell_type": "markdown",
   "metadata": {},
   "source": []
  },
  {
   "cell_type": "markdown",
   "metadata": {
    "tags": []
   },
   "source": [
    "#### vii. Imbalance"
   ]
  },
  {
   "cell_type": "code",
   "execution_count": null,
   "metadata": {},
   "outputs": [],
   "source": []
  },
  {
   "cell_type": "markdown",
   "metadata": {},
   "source": [
    "### (b) Binary Classification Using L1-penalized logistic regression"
   ]
  },
  {
   "cell_type": "markdown",
   "metadata": {
    "tags": []
   },
   "source": [
    "#### i. Time Series Segments"
   ]
  },
  {
   "cell_type": "code",
   "execution_count": null,
   "metadata": {},
   "outputs": [],
   "source": []
  },
  {
   "cell_type": "markdown",
   "metadata": {
    "tags": []
   },
   "source": [
    "#### ii. Comparison"
   ]
  },
  {
   "cell_type": "markdown",
   "metadata": {},
   "source": []
  },
  {
   "cell_type": "markdown",
   "metadata": {},
   "source": [
    "### (c) Multi-class Classification (The Realistic Case)"
   ]
  },
  {
   "cell_type": "markdown",
   "metadata": {
    "tags": []
   },
   "source": [
    "#### i. Time Series Segments"
   ]
  },
  {
   "cell_type": "code",
   "execution_count": null,
   "metadata": {},
   "outputs": [],
   "source": []
  },
  {
   "cell_type": "markdown",
   "metadata": {
    "tags": []
   },
   "source": [
    "#### ii. Naive Bayes"
   ]
  },
  {
   "cell_type": "code",
   "execution_count": null,
   "metadata": {},
   "outputs": [],
   "source": []
  },
  {
   "cell_type": "markdown",
   "metadata": {
    "tags": []
   },
   "source": [
    "#### ii. Comparison"
   ]
  },
  {
   "cell_type": "markdown",
   "metadata": {},
   "source": []
  },
  {
   "cell_type": "markdown",
   "metadata": {},
   "source": [
    "## 3. ISLR 4.8.3"
   ]
  },
  {
   "cell_type": "markdown",
   "metadata": {},
   "source": []
  },
  {
   "cell_type": "markdown",
   "metadata": {},
   "source": [
    "## 4. ISLR 4.8.7"
   ]
  },
  {
   "cell_type": "markdown",
   "metadata": {},
   "source": []
  },
  {
   "cell_type": "markdown",
   "metadata": {},
   "source": [
    "## 5.1. Extra Practice ISLR 4.8.4"
   ]
  },
  {
   "cell_type": "markdown",
   "metadata": {},
   "source": []
  },
  {
   "cell_type": "markdown",
   "metadata": {},
   "source": [
    "## 5.2. Extra Practice ISLR 4.8.9"
   ]
  },
  {
   "cell_type": "markdown",
   "metadata": {},
   "source": []
  },
  {
   "cell_type": "markdown",
   "metadata": {},
   "source": []
  }
 ],
 "metadata": {
  "kernelspec": {
   "display_name": "minimal_ds",
   "language": "python",
   "name": "python3"
  },
  "language_info": {
   "codemirror_mode": {
    "name": "ipython",
    "version": 3
   },
   "file_extension": ".py",
   "mimetype": "text/x-python",
   "name": "python",
   "nbconvert_exporter": "python",
   "pygments_lexer": "ipython3",
   "version": "3.12.6"
  },
  "toc": {
   "base_numbering": 1,
   "nav_menu": {},
   "number_sections": true,
   "sideBar": true,
   "skip_h1_title": true,
   "title_cell": "Table of Contents",
   "title_sidebar": "Contents",
   "toc_cell": false,
   "toc_position": {
    "height": "calc(100% - 180px)",
    "left": "10px",
    "top": "150px",
    "width": "294.435px"
   },
   "toc_section_display": true,
   "toc_window_display": true
  }
 },
 "nbformat": 4,
 "nbformat_minor": 4
}
